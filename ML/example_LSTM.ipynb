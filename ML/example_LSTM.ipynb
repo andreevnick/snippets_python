{
 "cells": [
  {
   "cell_type": "markdown",
   "metadata": {
    "id": "d9N8gecVonzv"
   },
   "source": [
    "Example of pytorch + LSTM"
   ]
  },
  {
   "cell_type": "markdown",
   "metadata": {
    "id": "ra_Nm6c-DfNV"
   },
   "source": [
    "# Imports and settings"
   ]
  },
  {
   "cell_type": "code",
   "execution_count": null,
   "metadata": {
    "executionInfo": {
     "elapsed": 301,
     "status": "ok",
     "timestamp": 1735584397423,
     "user": {
      "displayName": "Nikolay Andreev",
      "userId": "01474368720225845780"
     },
     "user_tz": -180
    },
    "id": "4_HSoaT8LM5i"
   },
   "outputs": [],
   "source": [
    "from datetime import datetime\n",
    "import numpy as np\n",
    "import pandas as pd\n",
    "# from tqdm import trange\n",
    "\n",
    "# from IPython.display import display\n",
    "import matplotlib.pyplot as plt\n",
    "import seaborn as sns"
   ]
  },
  {
   "cell_type": "markdown",
   "metadata": {
    "id": "olTka00Jonz1"
   },
   "source": [
    "# Obtain data"
   ]
  },
  {
   "cell_type": "markdown",
   "metadata": {
    "id": "23x4BDFYvOny"
   },
   "source": [
    "Prediction will be made for the Dow Jones Industrial Average stock market index.\n",
    "\n",
    "Data taken from the open dataset:\n",
    "https://www.openml.org/search?type=data&status=active&id=43840"
   ]
  },
  {
   "cell_type": "code",
   "execution_count": null,
   "metadata": {
    "colab": {
     "base_uri": "https://localhost:8080/",
     "height": 226
    },
    "executionInfo": {
     "elapsed": 278,
     "status": "ok",
     "timestamp": 1735585360976,
     "user": {
      "displayName": "Nikolay Andreev",
      "userId": "01474368720225845780"
     },
     "user_tz": -180
    },
    "id": "x9ebtU7DseNO",
    "outputId": "7e605ef4-7dcc-49b7-86c2-8383eab20ed1"
   },
   "outputs": [],
   "source": [
    "from sklearn.datasets import fetch_openml\n",
    "\n",
    "# fetch raw data\n",
    "stock_data = fetch_openml(data_id=43840, parser='pandas').data\n",
    "stock_data.head()"
   ]
  },
  {
   "cell_type": "code",
   "execution_count": null,
   "metadata": {
    "colab": {
     "base_uri": "https://localhost:8080/",
     "height": 257
    },
    "executionInfo": {
     "elapsed": 5,
     "status": "ok",
     "timestamp": 1735584398692,
     "user": {
      "displayName": "Nikolay Andreev",
      "userId": "01474368720225845780"
     },
     "user_tz": -180
    },
    "id": "Sn4nCGIivdly",
    "outputId": "ce361aeb-0a80-400c-a54e-3c30947b71a4"
   },
   "outputs": [],
   "source": [
    "# convert data types and drop unnecessary columns\n",
    "\n",
    "# convert string dates\n",
    "stock_data['Date'] = stock_data['Date'].apply(lambda x: datetime.strptime(x, '%b %d, %Y'))\n",
    "\n",
    "# convert string comma-separated floats\n",
    "stock_data[['Price', 'Open', 'High', 'Low']] = stock_data[['Price', 'Open', 'High', 'Low']].map(lambda x: float(x.replace(',', '')))\n",
    "\n",
    "# drop other columns\n",
    "stock_data = stock_data.drop(columns=['Vol.', 'Change_%'])\n",
    "\n",
    "# convert Date to index\n",
    "stock_data = stock_data.set_index('Date')\n",
    "\n",
    "stock_data.head()"
   ]
  },
  {
   "cell_type": "code",
   "execution_count": null,
   "metadata": {
    "executionInfo": {
     "elapsed": 399,
     "status": "ok",
     "timestamp": 1735584399999,
     "user": {
      "displayName": "Nikolay Andreev",
      "userId": "01474368720225845780"
     },
     "user_tz": -180
    },
    "id": "g6ED8-1ryy_l"
   },
   "outputs": [],
   "source": [
    "dt_start = stock_data.index.min()\n",
    "dt_end = stock_data.index.max()"
   ]
  },
  {
   "cell_type": "code",
   "execution_count": null,
   "metadata": {
    "colab": {
     "base_uri": "https://localhost:8080/",
     "height": 261
    },
    "executionInfo": {
     "elapsed": 7,
     "status": "ok",
     "timestamp": 1735584399999,
     "user": {
      "displayName": "Nikolay Andreev",
      "userId": "01474368720225845780"
     },
     "user_tz": -180
    },
    "id": "LYO77rdcp4sD",
    "outputId": "04b9b410-c53a-4a2b-c115-629753dd04d3"
   },
   "outputs": [],
   "source": [
    "# for some days, there is no data\n",
    "# impute the last observable close prices for those days\n",
    "\n",
    "business_days = pd.date_range(dt_start, dt_end, freq='B')\n",
    "\n",
    "data = (\n",
    "    stock_data # take close prices\n",
    "    .reindex(business_days) # drop holidays and weekends, if any, place NaN for missing business days\n",
    "    .fillna(method='ffill') # replace NaN with the last observable price\n",
    "    .dropna() # ensure that there are no NaN left in the dataset\n",
    ")\n",
    "\n",
    "data.head()"
   ]
  },
  {
   "cell_type": "code",
   "execution_count": null,
   "metadata": {
    "colab": {
     "base_uri": "https://localhost:8080/",
     "height": 559
    },
    "executionInfo": {
     "elapsed": 909,
     "status": "ok",
     "timestamp": 1735584402040,
     "user": {
      "displayName": "Nikolay Andreev",
      "userId": "01474368720225845780"
     },
     "user_tz": -180
    },
    "id": "qo3NjSSOgoza",
    "outputId": "768c0551-077d-4fd6-fd01-6dceaa5a6694"
   },
   "outputs": [],
   "source": [
    "# plot prices\n",
    "\n",
    "fig = plt.figure(figsize=(10,6))\n",
    "sns.lineplot(data)"
   ]
  },
  {
   "cell_type": "markdown",
   "metadata": {
    "id": "dRKOqUuF05lI"
   },
   "source": [
    "# Predict Price with LSTM"
   ]
  },
  {
   "cell_type": "markdown",
   "metadata": {
    "id": "-36vFUpb1CeO"
   },
   "source": [
    "## configuring pytorch"
   ]
  },
  {
   "cell_type": "code",
   "execution_count": null,
   "metadata": {
    "colab": {
     "base_uri": "https://localhost:8080/"
    },
    "executionInfo": {
     "elapsed": 274,
     "status": "ok",
     "timestamp": 1735584405065,
     "user": {
      "displayName": "Nikolay Andreev",
      "userId": "01474368720225845780"
     },
     "user_tz": -180
    },
    "id": "8Kde1_MAnX3h",
    "outputId": "0c956ed3-fffe-4052-e84d-6a0f4f2876ee"
   },
   "outputs": [],
   "source": [
    "import torch\n",
    "\n",
    "# fix random seed\n",
    "SEED = 0\n",
    "\n",
    "# set precision\n",
    "torch.set_default_dtype(torch.float32)\n",
    "\n",
    "# set device\n",
    "DEVICE = torch.device('cuda') if torch.cuda.is_available() else torch.device('cpu')\n",
    "DEVICE"
   ]
  },
  {
   "cell_type": "markdown",
   "metadata": {
    "id": "EaqXFNbs2zse"
   },
   "source": [
    "## train-test split and scaling data"
   ]
  },
  {
   "cell_type": "code",
   "execution_count": null,
   "metadata": {
    "executionInfo": {
     "elapsed": 4,
     "status": "ok",
     "timestamp": 1735584406142,
     "user": {
      "displayName": "Nikolay Andreev",
      "userId": "01474368720225845780"
     },
     "user_tz": -180
    },
    "id": "hmqkdIEZnX6O"
   },
   "outputs": [],
   "source": [
    "from sklearn.preprocessing import RobustScaler\n",
    "\n",
    "# train-test split\n",
    "X_train = data[data.index < '2019-01-01']\n",
    "X_test = data[data.index >= '2019-01-01']\n",
    "\n",
    "dates_test = X_test.index\n",
    "\n",
    "# scale X\n",
    "scaler = RobustScaler()\n",
    "X_train = scaler.fit_transform(X_train)\n",
    "X_test = scaler.transform(X_test)\n",
    "\n",
    "# find index of the Price column since X_train is a numpy array\n",
    "price_ind = list(data.columns).index('Price')"
   ]
  },
  {
   "cell_type": "code",
   "execution_count": null,
   "metadata": {
    "colab": {
     "base_uri": "https://localhost:8080/"
    },
    "executionInfo": {
     "elapsed": 6,
     "status": "ok",
     "timestamp": 1735584407112,
     "user": {
      "displayName": "Nikolay Andreev",
      "userId": "01474368720225845780"
     },
     "user_tz": -180
    },
    "id": "DYfPtv7TnX82",
    "outputId": "605b92dd-0076-454a-d356-11a41b54cd75"
   },
   "outputs": [],
   "source": [
    "# how much history is used at each iteration\n",
    "history_days = 30\n",
    "\n",
    "# model will predict Price at T + hrz, where T is the last date in train\n",
    "hrz = 7\n",
    "\n",
    "def prepare_data_for_lstm(X):\n",
    "  # Assume that history_days = L = 30 and hrz = 7,\n",
    "  # X is T x n_dim array of series we want to predict, where each column is a series\n",
    "  #\n",
    "  # For LSTM, the input series data X is split to a batch of sequences\n",
    "  #     X_0, X_1, ..., X_29 -> X_36\n",
    "  #     X_1, X_2, ..., X_30 -> X_37\n",
    "  #     ...\n",
    "  #     X_(T-37), X_(T-36), ..., X_(T-8) -> X_(T-1)\n",
    "  # The whole sequence X_0, ..., X_(T-8) is split a batch so only the last\n",
    "  # 30 days influence the prediction.\n",
    "  #\n",
    "  # Let N = T-L-hrz+1 - batch length\n",
    "  #\n",
    "  # Returns\n",
    "  #     [seq_0, ..., seq_(T-L-hrz)], where seq_k= [X_k, ..., X_{k+L-1}],\n",
    "  #         seq_k is (L, n_dim), n_dim is a number of predicted series.\n",
    "  #         Total size: (N, L, n_dim)\n",
    "  #     [X_{L+hrz-1}, ..., X_{T-1}] - target for prediction.\n",
    "  #         Total size: (N, n_dim)\n",
    "  #\n",
    "\n",
    "  X = np.asarray(X)\n",
    "\n",
    "  X_prep = np.stack([X[i-history_days:i,:] for i in range(history_days, X.shape[0]-hrz)])\n",
    "  y_prep = np.stack([X[i+hrz,:] for i in range(history_days, X.shape[0]-hrz)])\n",
    "\n",
    "  print('X_prep: ', X_prep.shape)\n",
    "  print('y_prep: ', y_prep.shape)\n",
    "\n",
    "  return torch.tensor(X_prep, dtype=torch.float32, device=DEVICE), torch.tensor(y_prep, dtype=torch.float32, device=DEVICE)\n",
    "\n",
    "X_train_lstm, y_train_lstm = prepare_data_for_lstm(X_train)\n",
    "X_test_lstm, y_test_lstm = prepare_data_for_lstm(X_test)"
   ]
  },
  {
   "cell_type": "code",
   "execution_count": null,
   "metadata": {
    "executionInfo": {
     "elapsed": 4,
     "status": "ok",
     "timestamp": 1735584407610,
     "user": {
      "displayName": "Nikolay Andreev",
      "userId": "01474368720225845780"
     },
     "user_tz": -180
    },
    "id": "q5vg0MA6nX-3"
   },
   "outputs": [],
   "source": []
  },
  {
   "cell_type": "code",
   "execution_count": null,
   "metadata": {
    "executionInfo": {
     "elapsed": 4,
     "status": "ok",
     "timestamp": 1735584408489,
     "user": {
      "displayName": "Nikolay Andreev",
      "userId": "01474368720225845780"
     },
     "user_tz": -180
    },
    "id": "XkXw2L3AnYCJ"
   },
   "outputs": [],
   "source": [
    "# sequential NN model with LSTM block:\n",
    "#     LSTM -> Dropout -> Linear\n",
    "\n",
    "activation = torch.nn.LeakyReLU\n",
    "\n",
    "class MyLSTM(torch.nn.Module):\n",
    "    def __init__(self, input_size, output_size, lstm_hidden_size, lstm_num_layers=1):\n",
    "        super().__init__()\n",
    "\n",
    "        self.my_lstm = torch.nn.LSTM(input_size, lstm_hidden_size, num_layers=lstm_num_layers, batch_first=True)\n",
    "\n",
    "        self.final_stage = torch.nn.Sequential(\n",
    "            torch.nn.Dropout(p=0.2),\n",
    "          torch.nn.Linear(lstm_hidden_size, output_size)\n",
    "        )\n",
    "\n",
    "    def forward(self, x):\n",
    "        \"\"\"\n",
    "        Parameters\n",
    "        ----------\n",
    "        x : torch.Tensor\n",
    "            of size : batch_size x n_input\n",
    "\n",
    "        Returns\n",
    "        ----------\n",
    "        torch.Tensor\n",
    "            of size : batch_size x n_output\n",
    "\n",
    "        \"\"\"\n",
    "        res, _ = self.my_lstm(x) # size (N, L, lstm_hidden_size)\n",
    "\n",
    "        # get only the last prediction for each sequence\n",
    "        res = res[:,-1,:] # size (N, lstm_hidden_size)\n",
    "\n",
    "        return self.final_stage(res)"
   ]
  },
  {
   "cell_type": "code",
   "execution_count": null,
   "metadata": {
    "executionInfo": {
     "elapsed": 351,
     "status": "ok",
     "timestamp": 1735584586137,
     "user": {
      "displayName": "Nikolay Andreev",
      "userId": "01474368720225845780"
     },
     "user_tz": -180
    },
    "id": "LZyTJ-SEAFRj"
   },
   "outputs": [],
   "source": [
    "model = MyLSTM(\n",
    "    input_size=X_train_lstm.shape[2],\n",
    "    output_size=1,\n",
    "    lstm_hidden_size=100*X_train_lstm.shape[2],\n",
    "    lstm_num_layers=1\n",
    "    )\n",
    "\n",
    "if torch.cuda.is_available():\n",
    "    model.cuda()"
   ]
  },
  {
   "cell_type": "code",
   "execution_count": null,
   "metadata": {
    "colab": {
     "base_uri": "https://localhost:8080/"
    },
    "executionInfo": {
     "elapsed": 357855,
     "status": "ok",
     "timestamp": 1735584944339,
     "user": {
      "displayName": "Nikolay Andreev",
      "userId": "01474368720225845780"
     },
     "user_tz": -180
    },
    "id": "Bl3rDl-dgo26",
    "outputId": "6141fd52-9729-44b6-85b5-257b5960d2f6"
   },
   "outputs": [],
   "source": [
    "# split to 2 batches during training\n",
    "# parameters are updeted after each batch\n",
    "batch_size = X_train_lstm.shape[0] // 2 + 1\n",
    "\n",
    "# indices of predicted series.\n",
    "# Only Price is required in this example.\n",
    "pred_ind = [price_ind]\n",
    "\n",
    "loss_f = torch.nn.MSELoss() # validation loss\n",
    "loss_f_train = loss_f # train loss\n",
    "\n",
    "optimizer = torch.optim.SGD(model.parameters(), lr=1e-2, momentum=1e-6)\n",
    "# scheduler = torch.optim.lr_scheduler.MultiStepLR(optimizer, milestones=(200), gamma=0.3)\n",
    "scheduler = None\n",
    "\n",
    "loss_dynamics_train = []\n",
    "loss_dynamics_val = []\n",
    "\n",
    "loss_train_prev = np.nan\n",
    "\n",
    "print('-----------------------------------------------------------')\n",
    "print('| epoch | training_loss | loss decrease | validation loss |')\n",
    "print('-----------------------------------------------------------')\n",
    "\n",
    "for epoch in range(2000):\n",
    "    loss_batch_train = []\n",
    "    loss_batch_val = []\n",
    "    for X, y in zip(torch.split(X_train_lstm, batch_size), torch.split(y_train_lstm, batch_size)):\n",
    "\n",
    "        y = y[:,pred_ind]\n",
    "        model.train(True)\n",
    "\n",
    "        y_pred = model(X)\n",
    "        loss = loss_f_train(y, y_pred)\n",
    "        optimizer.zero_grad()\n",
    "        loss.backward()\n",
    "        optimizer.step()\n",
    "\n",
    "        model.train(False)\n",
    "\n",
    "        y_pred = model(X)\n",
    "        loss_batch_train.append(torch.sqrt(loss_f(y, y_pred)).cpu().detach().numpy() + 0.0)\n",
    "\n",
    "        y_pred = model(X_test_lstm)\n",
    "        loss_batch_val.append(torch.sqrt(loss_f(y_test_lstm[:,pred_ind], y_pred)).cpu().detach().numpy() + 0.0)\n",
    "\n",
    "    loss_epoch_train = np.mean(loss_batch_train)\n",
    "    loss_dynamics_train.append(loss_epoch_train)\n",
    "\n",
    "    loss_epoch_val = np.mean(loss_batch_val)\n",
    "    loss_dynamics_val.append(loss_epoch_val)\n",
    "\n",
    "    s = '| {0:5d} | {1:13.6f} | {2:12.6f}% | {3:15.6f} |'.format(\n",
    "        epoch,\n",
    "        loss_epoch_train,\n",
    "        (loss_epoch_train - loss_train_prev) / (1e-12 + loss_train_prev) * 100,\n",
    "        loss_epoch_val\n",
    "    )\n",
    "    if epoch % 100 == 0:\n",
    "        print(s)\n",
    "\n",
    "    loss_train_prev = loss_epoch_train\n",
    "\n",
    "    if scheduler is not None:\n",
    "        scheduler.step()\n"
   ]
  },
  {
   "cell_type": "code",
   "execution_count": null,
   "metadata": {
    "executionInfo": {
     "elapsed": 6,
     "status": "ok",
     "timestamp": 1735584945170,
     "user": {
      "displayName": "Nikolay Andreev",
      "userId": "01474368720225845780"
     },
     "user_tz": -180
    },
    "id": "BW1GXaSyvhNd"
   },
   "outputs": [],
   "source": [
    "y_true = scaler.inverse_transform(y_test_lstm.cpu().detach().numpy())[:,price_ind]\n",
    "\n",
    "# to apply the inverse transform, tile model prediction to match the shape of X\n",
    "y_pred_for_scale = torch.tile(model(X_test_lstm), (1,X_train_lstm.shape[2]))\n",
    "\n",
    "# transform and select only the Price column\n",
    "y_pred = scaler.inverse_transform(y_pred_for_scale.cpu().detach().numpy())[:,price_ind]"
   ]
  },
  {
   "cell_type": "code",
   "execution_count": null,
   "metadata": {
    "colab": {
     "base_uri": "https://localhost:8080/",
     "height": 517
    },
    "executionInfo": {
     "elapsed": 651,
     "status": "ok",
     "timestamp": 1735585086235,
     "user": {
      "displayName": "Nikolay Andreev",
      "userId": "01474368720225845780"
     },
     "user_tz": -180
    },
    "id": "SppsHZQTulLD",
    "outputId": "b18f7bb5-c392-45ae-c274-1a8879a4b877"
   },
   "outputs": [],
   "source": [
    "# plot results\n",
    "\n",
    "plt.plot(dates_test[history_days:-hrz], y_true, '-k', label='Price')\n",
    "plt.plot(dates_test[history_days:-hrz], y_pred, '--r', label='Forecast 7 day')\n",
    "\n",
    "plt.title('Price')\n",
    "plt.xticks(rotation=70)\n",
    "plt.legend()\n",
    "\n",
    "plt.show()"
   ]
  },
  {
   "cell_type": "code",
   "execution_count": null,
   "metadata": {
    "id": "CP0M2n5CulOd"
   },
   "outputs": [],
   "source": []
  },
  {
   "cell_type": "code",
   "execution_count": null,
   "metadata": {
    "id": "qGnAz0HnAaJj"
   },
   "outputs": [],
   "source": []
  },
  {
   "cell_type": "code",
   "execution_count": null,
   "metadata": {
    "id": "E3djzD-yJcHz"
   },
   "outputs": [],
   "source": []
  },
  {
   "cell_type": "code",
   "execution_count": null,
   "metadata": {
    "id": "f1izmUANJcKZ"
   },
   "outputs": [],
   "source": []
  },
  {
   "cell_type": "code",
   "execution_count": null,
   "metadata": {
    "id": "OzLFAcOjJcMe"
   },
   "outputs": [],
   "source": []
  }
 ],
 "metadata": {
  "accelerator": "GPU",
  "colab": {
   "gpuType": "T4",
   "provenance": []
  },
  "kernelspec": {
   "display_name": "Python 3 (ipykernel)",
   "language": "python",
   "name": "python3"
  },
  "language_info": {
   "codemirror_mode": {
    "name": "ipython",
    "version": 3
   },
   "file_extension": ".py",
   "mimetype": "text/x-python",
   "name": "python",
   "nbconvert_exporter": "python",
   "pygments_lexer": "ipython3",
   "version": "3.12.3"
  }
 },
 "nbformat": 4,
 "nbformat_minor": 4
}
